{
 "cells": [
  {
   "cell_type": "code",
   "execution_count": 2,
   "metadata": {},
   "outputs": [],
   "source": [
    "import csv\n",
    "import torch\n",
    "from torch.utils.data import Dataset\n",
    "\n",
    "class pvaeDataset(Dataset): #Dataloader를 쓰려면 Dataset instance일 필요가 있으므로 Dataset을 상속해야함.\n",
    "    def __init__(self, data_path, max_len, prob_num):\n",
    "        super(pvaeDataset).__init__()\n",
    "        self.data=[]\n",
    "        self.data_path = data_path\n",
    "        self.max_len = max_len\n",
    "        self.prob_num = prob_num\n",
    "        self.preprocess()\n",
    "\n",
    "    def preprocess(self):\n",
    "        step =3\n",
    "        with open(self.data_path, 'r') as csv_file:\n",
    "            csv_reader = csv.reader(csv_file)\n",
    "            for i, row in enumerate(csv_reader):\n",
    "                row = [value.strip() for value in row if value.strip()]\n",
    "                if i % step ==0:\n",
    "                    temp=[row]\n",
    "                else:\n",
    "                    temp.append(row)\n",
    "\n",
    "                if i % step ==2:\n",
    "                    if int(float(temp[0][0]))>= self.max_len:\n",
    "                        student_log = [ int(float(temp[1][j]))+self.prob_num *int((float(temp[2][j]))) for j in range(self.max_len)] # To avoid collision at calculating loss\n",
    "                        self.data.append(student_log)\n",
    "\n",
    "\n",
    "    def __getitem__(self, index):\n",
    "        student_idx = self.data[index]\n",
    "\n",
    "        return torch.tensor(student_idx)\n",
    "\n",
    "    def __len__(self):\n",
    "        return len(self.data)"
   ]
  },
  {
   "cell_type": "code",
   "execution_count": 3,
   "metadata": {},
   "outputs": [],
   "source": [
    "def provide_data(data_name, max_len):\n",
    "    \n",
    "    data_path = f'/Users/sungsiklee/Desktop/Coding/P-VAE/Data/{data_name}_Processed.csv'\n",
    "    \n",
    "    if data_name == 'ASSISTments2015':\n",
    "        data_set = pvaeDataset(data_path , max_len, 100) \n",
    "    elif data_name == 'ASSISTments0910':\n",
    "        data_set = pvaeDataset(data_path , max_len, 124) \n",
    "        \n",
    "    elif data_name == 'ASSISTmentsChall':\n",
    "        data_set = pvaeDataset(data_path , max_len, 102) \n",
    "        \n",
    "    elif data_name == 'STATIC':\n",
    "        data_set = pvaeDataset(data_path , max_len, 81) \n",
    "    \n",
    "\n",
    "    k=0 \n",
    "    with open(data_path, 'r') as csv_file:\n",
    "        csv_reader = csv.reader(csv_file)\n",
    "    \n",
    "        for _ ,_ in enumerate(csv_reader):\n",
    "            k +=1\n",
    "    \n",
    "    print(f\"num of student:{int(k/3)}\")        \n",
    "    print(f\"num of student longer than {max_len }: {len(data_set)}\")\n",
    "\n",
    "\n",
    "\n",
    " "
   ]
  },
  {
   "cell_type": "code",
   "execution_count": 68,
   "metadata": {},
   "outputs": [
    {
     "name": "stdout",
     "output_type": "stream",
     "text": [
      "num of student:3361\n",
      "num of student longer than 20: 1959\n"
     ]
    }
   ],
   "source": [
    "provide_data('ASSISTments0910', 20)\n",
    "\n",
    "#0910은 20 50 "
   ]
  },
  {
   "cell_type": "code",
   "execution_count": 73,
   "metadata": {},
   "outputs": [
    {
     "name": "stdout",
     "output_type": "stream",
     "text": [
      "num of student:19840\n",
      "num of student longer than 20: 10178\n"
     ]
    }
   ],
   "source": [
    "provide_data('ASSISTments2015', 20)\n",
    "\n",
    "#0910, 2015은 20 50 "
   ]
  },
  {
   "cell_type": "code",
   "execution_count": 28,
   "metadata": {},
   "outputs": [
    {
     "name": "stdout",
     "output_type": "stream",
     "text": [
      "num of student:1709\n",
      "num of student longer than 300: 1140\n"
     ]
    }
   ],
   "source": [
    "provide_data('ASSISTmentsChall', 300)\n",
    "\n",
    "#chall은 200, 500으로"
   ]
  },
  {
   "cell_type": "code",
   "execution_count": 21,
   "metadata": {},
   "outputs": [
    {
     "name": "stdout",
     "output_type": "stream",
     "text": [
      "num of student:333\n",
      "num of student longer than 300: 239\n"
     ]
    }
   ],
   "source": [
    "provide_data('STATIC', 300)\n",
    "\n",
    "#chall과 static은 200, 500으로"
   ]
  },
  {
   "cell_type": "code",
   "execution_count": 1,
   "metadata": {},
   "outputs": [],
   "source": [
    "#"
   ]
  },
  {
   "cell_type": "code",
   "execution_count": null,
   "metadata": {},
   "outputs": [],
   "source": []
  }
 ],
 "metadata": {
  "kernelspec": {
   "display_name": "Python 3",
   "language": "python",
   "name": "python3"
  },
  "language_info": {
   "codemirror_mode": {
    "name": "ipython",
    "version": 3
   },
   "file_extension": ".py",
   "mimetype": "text/x-python",
   "name": "python",
   "nbconvert_exporter": "python",
   "pygments_lexer": "ipython3",
   "version": "3.10.7"
  }
 },
 "nbformat": 4,
 "nbformat_minor": 2
}
